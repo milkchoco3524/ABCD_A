{
  "nbformat": 4,
  "nbformat_minor": 0,
  "metadata": {
    "colab": {
      "provenance": [],
      "authorship_tag": "ABX9TyP+x180dpuW+qLK2SodV8w8",
      "include_colab_link": true
    },
    "kernelspec": {
      "name": "python3",
      "display_name": "Python 3"
    },
    "language_info": {
      "name": "python"
    }
  },
  "cells": [
    {
      "cell_type": "markdown",
      "metadata": {
        "id": "view-in-github",
        "colab_type": "text"
      },
      "source": [
        "<a href=\"https://colab.research.google.com/github/milkchoco3524/ABCD_A/blob/main/20240516_tensorflow_%EC%98%88%EC%A0%9C.ipynb\" target=\"_parent\"><img src=\"https://colab.research.google.com/assets/colab-badge.svg\" alt=\"Open In Colab\"/></a>"
      ]
    },
    {
      "cell_type": "code",
      "source": [
        "import tensorflow as tf\n",
        "from tensorflow.keras.layers import Input, Dense, Flatten\n",
        "from tensorflow.keras.models import Model\n",
        "\n",
        "# 이미지 데이터의 크기 정의\n",
        "height = 28\n",
        "width = 28\n",
        "channels = 3 #RGB 이미지\n",
        "\n",
        "# 신경망 모델 구성\n",
        "input_layer = input(height,  width, channels) # 입력층의 shape 설정"
      ],
      "metadata": {
        "id": "ZrChJ38tJoxS",
        "colab": {
          "base_uri": "https://localhost:8080/",
          "height": 184
        },
        "outputId": "10ece7db-3b6f-426d-b9f5-34d2cf04ef64"
      },
      "execution_count": 5,
      "outputs": [
        {
          "output_type": "error",
          "ename": "TypeError",
          "evalue": "Kernel.raw_input() takes from 1 to 2 positional arguments but 4 were given",
          "traceback": [
            "\u001b[0;31m---------------------------------------------------------------------------\u001b[0m",
            "\u001b[0;31mTypeError\u001b[0m                                 Traceback (most recent call last)",
            "\u001b[0;32m<ipython-input-5-eef467e6703e>\u001b[0m in \u001b[0;36m<cell line: 11>\u001b[0;34m()\u001b[0m\n\u001b[1;32m      9\u001b[0m \u001b[0;34m\u001b[0m\u001b[0m\n\u001b[1;32m     10\u001b[0m \u001b[0;31m# 신경망 모델 구성\u001b[0m\u001b[0;34m\u001b[0m\u001b[0;34m\u001b[0m\u001b[0m\n\u001b[0;32m---> 11\u001b[0;31m \u001b[0minput_layer\u001b[0m \u001b[0;34m=\u001b[0m \u001b[0minput\u001b[0m\u001b[0;34m(\u001b[0m\u001b[0mheight\u001b[0m\u001b[0;34m,\u001b[0m  \u001b[0mwidth\u001b[0m\u001b[0;34m,\u001b[0m \u001b[0mchannels\u001b[0m\u001b[0;34m)\u001b[0m \u001b[0;31m# 입력층의 shape 설정\u001b[0m\u001b[0;34m\u001b[0m\u001b[0;34m\u001b[0m\u001b[0m\n\u001b[0m",
            "\u001b[0;31mTypeError\u001b[0m: Kernel.raw_input() takes from 1 to 2 positional arguments but 4 were given"
          ]
        }
      ]
    },
    {
      "cell_type": "markdown",
      "source": [
        "- Input 함수는 모델의 입력을 정의합니다. 여기서 shape 파라미터는 각 입력 데이터의 형태를 (28, 28, 3)으로 지정하며, 각 이미지가 28x28 픽셀, 3개의 색상 채널을 가지도록 설정합니다."
      ],
      "metadata": {
        "id": "r0XEtKmjKcRy"
      }
    },
    {
      "cell_type": "code",
      "source": [
        "flatten_layer = Flatten()(input_layer) # 이미지 데이터를 1D 벡터로 펼치기"
      ],
      "metadata": {
        "id": "HcKae9LqKol4"
      },
      "execution_count": null,
      "outputs": []
    },
    {
      "cell_type": "markdown",
      "source": [
        "이는 3차원의 이미지 데이터를 신경망이 처리할 수 있는 형태로 변환하는데 사용합니다."
      ],
      "metadata": {
        "id": "Ee8aV6PkKvxx"
      }
    },
    {
      "cell_type": "code",
      "source": [
        "hidden_layer = Dense(64, activation='relu')(flatten_layer) # 숨겨진 계층"
      ],
      "metadata": {
        "id": "ApAmBPsZLSp2"
      },
      "execution_count": null,
      "outputs": []
    },
    {
      "cell_type": "markdown",
      "source": [
        "- Dense는 완전 연결 계층을 추가합니다. 이 계층은 64개의 뉴런을 가지며, 각 뉴런은 ReLU 활성화 함수를 사용합니다. ReLU는 입력이 0 이상이면 그대로 출력, 0 이하면 0을 출력하는 비선형 함수로, 모델이 복잡한 패턴을 학습할 수 있게 도와줍니다."
      ],
      "metadata": {
        "id": "TsG0AQQDLZwV"
      }
    },
    {
      "cell_type": "code",
      "source": [
        "output_layer = Dense(10, activation='softmax')(hidden_layer) # 출력 계층"
      ],
      "metadata": {
        "id": "XTbWkkpoLuca"
      },
      "execution_count": null,
      "outputs": []
    },
    {
      "cell_type": "markdown",
      "source": [
        "- 출력 계층 역시 완전 연결 계층입니다. 10개의 뉴런을 사용하며, 각 뉴런은 클래스에 대한 확률을 나타내는 softmax 활성화 함수를 사용합니다. 이 계층은 10개의 서로 다른 클래스(예를 들어 숫자 0부터 9까지)에 대한 예측 확률을 출력합니다."
      ],
      "metadata": {
        "id": "7CQ2GvnXLzED"
      }
    },
    {
      "cell_type": "code",
      "source": [
        "# 모델 생성\n",
        "model = Model(inputs=input_layer, outputs=output_layer)"
      ],
      "metadata": {
        "colab": {
          "base_uri": "https://localhost:8080/",
          "height": 166
        },
        "id": "P_ff41jJMBzo",
        "outputId": "5d3618ff-fb42-4971-ee8b-92072cec1e57"
      },
      "execution_count": 1,
      "outputs": [
        {
          "output_type": "error",
          "ename": "NameError",
          "evalue": "name 'Model' is not defined",
          "traceback": [
            "\u001b[0;31m---------------------------------------------------------------------------\u001b[0m",
            "\u001b[0;31mNameError\u001b[0m                                 Traceback (most recent call last)",
            "\u001b[0;32m<ipython-input-1-7cb638361766>\u001b[0m in \u001b[0;36m<cell line: 2>\u001b[0;34m()\u001b[0m\n\u001b[1;32m      1\u001b[0m \u001b[0;31m# 모델 생성\u001b[0m\u001b[0;34m\u001b[0m\u001b[0;34m\u001b[0m\u001b[0m\n\u001b[0;32m----> 2\u001b[0;31m \u001b[0mmodel\u001b[0m \u001b[0;34m=\u001b[0m \u001b[0mModel\u001b[0m\u001b[0;34m(\u001b[0m\u001b[0minputs\u001b[0m\u001b[0;34m=\u001b[0m\u001b[0minput_layer\u001b[0m\u001b[0;34m,\u001b[0m \u001b[0moutputs\u001b[0m\u001b[0;34m=\u001b[0m\u001b[0moutput_layer\u001b[0m\u001b[0;34m)\u001b[0m\u001b[0;34m\u001b[0m\u001b[0;34m\u001b[0m\u001b[0m\n\u001b[0m",
            "\u001b[0;31mNameError\u001b[0m: name 'Model' is not defined"
          ]
        }
      ]
    }
  ]
}