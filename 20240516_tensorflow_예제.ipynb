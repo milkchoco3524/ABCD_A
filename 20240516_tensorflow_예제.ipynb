{
  "nbformat": 4,
  "nbformat_minor": 0,
  "metadata": {
    "colab": {
      "provenance": [],
      "authorship_tag": "ABX9TyMXDQSxEiOmQ5rPXlm0DdxX",
      "include_colab_link": true
    },
    "kernelspec": {
      "name": "python3",
      "display_name": "Python 3"
    },
    "language_info": {
      "name": "python"
    }
  },
  "cells": [
    {
      "cell_type": "markdown",
      "metadata": {
        "id": "view-in-github",
        "colab_type": "text"
      },
      "source": [
        "<a href=\"https://colab.research.google.com/github/milkchoco3524/ABCD_A/blob/main/20240516_tensorflow_%EC%98%88%EC%A0%9C.ipynb\" target=\"_parent\"><img src=\"https://colab.research.google.com/assets/colab-badge.svg\" alt=\"Open In Colab\"/></a>"
      ]
    },
    {
      "cell_type": "code",
      "source": [
        "import tensorflow as tf\n",
        "from tensorflow.keras.layers import Input, Dense, Flatten\n",
        "from tensorflow.keras.models import Model\n",
        "\n",
        "# 이미지 데이터의 크기 정의\n",
        "height = 28\n",
        "width = 28\n",
        "channels = 3 # RGB 이미지\n",
        "\n",
        "# 신경망 모델 구성\n",
        "input_layer = Input(shape=(height, width, channels)) # 입력층의 shape 설정"
      ],
      "metadata": {
        "id": "ZrChJ38tJoxS"
      },
      "execution_count": 7,
      "outputs": []
    },
    {
      "cell_type": "markdown",
      "source": [
        "- Input 함수는 모델의 입력을 정의합니다. 여기서 shape 파라미터는 각 입력 데이터의 형태를 (28, 28, 3)으로 지정하며, 각 이미지가 28x28 픽셀, 3개의 색상 채널을 가지도록 설정합니다."
      ],
      "metadata": {
        "id": "r0XEtKmjKcRy"
      }
    },
    {
      "cell_type": "code",
      "source": [
        "flatten_layer = Flatten()(input_layer) # 이미지 데이터를 1D 벡터로 펼치기"
      ],
      "metadata": {
        "id": "HcKae9LqKol4"
      },
      "execution_count": 8,
      "outputs": []
    },
    {
      "cell_type": "markdown",
      "source": [
        "이는 3차원의 이미지 데이터를 신경망이 처리할 수 있는 형태로 변환하는데 사용합니다."
      ],
      "metadata": {
        "id": "Ee8aV6PkKvxx"
      }
    },
    {
      "cell_type": "code",
      "source": [
        "hidden_layer = Dense(64, activation='relu')(flatten_layer) # 숨겨진 계층"
      ],
      "metadata": {
        "id": "ApAmBPsZLSp2"
      },
      "execution_count": 9,
      "outputs": []
    },
    {
      "cell_type": "markdown",
      "source": [
        "- Dense는 완전 연결 계층을 추가합니다. 이 계층은 64개의 뉴런을 가지며, 각 뉴런은 ReLU 활성화 함수를 사용합니다. ReLU는 입력이 0 이상이면 그대로 출력, 0 이하면 0을 출력하는 비선형 함수로, 모델이 복잡한 패턴을 학습할 수 있게 도와줍니다."
      ],
      "metadata": {
        "id": "TsG0AQQDLZwV"
      }
    },
    {
      "cell_type": "code",
      "source": [
        "output_layer = Dense(10, activation='softmax')(hidden_layer) # 출력 계층"
      ],
      "metadata": {
        "id": "XTbWkkpoLuca"
      },
      "execution_count": 10,
      "outputs": []
    },
    {
      "cell_type": "markdown",
      "source": [
        "- 출력 계층 역시 완전 연결 계층입니다. 10개의 뉴런을 사용하며, 각 뉴런은 클래스에 대한 확률을 나타내는 softmax 활성화 함수를 사용합니다. 이 계층은 10개의 서로 다른 클래스(예를 들어 숫자 0부터 9까지)에 대한 예측 확률을 출력합니다."
      ],
      "metadata": {
        "id": "7CQ2GvnXLzED"
      }
    },
    {
      "cell_type": "code",
      "source": [
        "# 모델 생성\n",
        "model = Model(inputs=input_layer, outputs=output_layer)"
      ],
      "metadata": {
        "id": "P_ff41jJMBzo"
      },
      "execution_count": 11,
      "outputs": []
    }
  ]
}