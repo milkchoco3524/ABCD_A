{
  "nbformat": 4,
  "nbformat_minor": 0,
  "metadata": {
    "colab": {
      "provenance": [],
      "authorship_tag": "ABX9TyOFUYZ2YYyH9Gf7jm4zk5YQ",
      "include_colab_link": true
    },
    "kernelspec": {
      "name": "python3",
      "display_name": "Python 3"
    },
    "language_info": {
      "name": "python"
    }
  },
  "cells": [
    {
      "cell_type": "markdown",
      "metadata": {
        "id": "view-in-github",
        "colab_type": "text"
      },
      "source": [
        "<a href=\"https://colab.research.google.com/github/milkchoco3524/ABCD_A/blob/main/20240506_CNN_%EA%B8%B0%EC%B4%88.ipynb\" target=\"_parent\"><img src=\"https://colab.research.google.com/assets/colab-badge.svg\" alt=\"Open In Colab\"/></a>"
      ]
    },
    {
      "cell_type": "markdown",
      "source": [
        "# 1. CNN을 구성하는 레이어"
      ],
      "metadata": {
        "id": "GtebBw_UF7XM"
      }
    },
    {
      "cell_type": "code",
      "execution_count": 2,
      "metadata": {
        "id": "Ext9gQi-3rDH"
      },
      "outputs": [],
      "source": [
        "import torch\n",
        "import torch.nn as nn\n",
        "import torch.nn.functional as F"
      ]
    },
    {
      "cell_type": "markdown",
      "source": [
        "배치 크기 x 채널 x 높이(height) x 너비(widht)\n",
        "\n",
        "- 배치 크기 : 1\n",
        "- 채널 : 1 (그레이스케일 1, 컬러3)\n",
        "- 높이(픽셀) : 28\n",
        "- 너비(픽셀) : 28"
      ],
      "metadata": {
        "id": "GhCRccVz32YG"
      }
    },
    {
      "cell_type": "code",
      "source": [
        "## Pooling example\n",
        "input_example = torch.tensor([[[0,1,2], [3,4,5,], [6,7,8,]]])\n",
        "print(input_example)\n",
        "# max pooling\n",
        "max_pooling_layer = nn.MaxPool2d(kernel_size=2, stride=1)\n",
        "print(max_pooling_layer)\n",
        "print(max_pooling_layer(input_example))\n",
        "# average pooling\n",
        "average_pooling_layer = torch.nn.AvgPool2d(kernel_size=2, stride=1)\n",
        "print(average_pooling_layer)\n",
        "print(average_pooling_layer(input_example))"
      ],
      "metadata": {
        "colab": {
          "base_uri": "https://localhost:8080/"
        },
        "id": "YfSnpw444Cye",
        "outputId": "5dfeb7b7-b60d-4b00-c2eb-468c751be3e1"
      },
      "execution_count": 9,
      "outputs": [
        {
          "output_type": "stream",
          "name": "stdout",
          "text": [
            "tensor([[[0, 1, 0, 2],\n",
            "         [3, 4, 5, 0],\n",
            "         [6, 7, 8, 0]]])\n",
            "MaxPool2d(kernel_size=2, stride=1, padding=0, dilation=1, ceil_mode=False)\n",
            "tensor([[[4, 5, 5],\n",
            "         [7, 8, 8]]])\n",
            "AvgPool2d(kernel_size=2, stride=1, padding=0)\n",
            "tensor([[[2, 2, 1],\n",
            "         [5, 6, 3]]])\n"
          ]
        }
      ]
    },
    {
      "cell_type": "code",
      "source": [
        "## Quiz!!\n",
        "input_example = torch.tensor([[[12, 20, 30, 0.0], [20, 12, 2, 0], [0, 70, 5, 2], [8, 2, 90, 3]]])\n",
        "print(input_example)\n",
        "\n",
        "max_pooling_layer = nn.MaxPool2d(kernel_size=2, stride=2)\n",
        "print('\\nmaxpooling:\\n', max_pooling_layer(input_example))\n",
        "\n",
        "average_pooling_layer = torch.nn.AvgPool2d(kernel_size=2, stride=2)\n",
        "print('\\naverage pooling:\\n', average_pooling_layer(input_example))"
      ],
      "metadata": {
        "colab": {
          "base_uri": "https://localhost:8080/"
        },
        "id": "v4T0HHHo6um0",
        "outputId": "d2a2ae63-0cd3-4cbe-f55d-9ce35043a8e6"
      },
      "execution_count": 12,
      "outputs": [
        {
          "output_type": "stream",
          "name": "stdout",
          "text": [
            "tensor([[[12., 20., 30.,  0.],\n",
            "         [20., 12.,  2.,  0.],\n",
            "         [ 0., 70.,  5.,  2.],\n",
            "         [ 8.,  2., 90.,  3.]]])\n",
            "\n",
            "maxpooling:\n",
            " tensor([[[20., 30.],\n",
            "         [70., 90.]]])\n",
            "\n",
            "average pooling:\n",
            " tensor([[[16.,  8.],\n",
            "         [20., 25.]]])\n"
          ]
        }
      ]
    },
    {
      "cell_type": "markdown",
      "source": [
        "## Input"
      ],
      "metadata": {
        "id": "LUcS_aa2-MVT"
      }
    },
    {
      "cell_type": "code",
      "source": [
        "inputs = torch.Tensor(1, 1, 32, 32)\n",
        "\n",
        "inputs.shape"
      ],
      "metadata": {
        "colab": {
          "base_uri": "https://localhost:8080/"
        },
        "id": "U-b8F-xW-OSb",
        "outputId": "014f389a-e414-41ab-e848-64d00d603fd4"
      },
      "execution_count": 13,
      "outputs": [
        {
          "output_type": "execute_result",
          "data": {
            "text/plain": [
              "torch.Size([1, 1, 32, 32])"
            ]
          },
          "metadata": {},
          "execution_count": 13
        }
      ]
    },
    {
      "cell_type": "markdown",
      "source": [
        "## 첫번째 Conv2D"
      ],
      "metadata": {
        "id": "vpZkeyAXB-fT"
      }
    },
    {
      "cell_type": "code",
      "source": [
        "conv1 = nn.Conv2d(in_channels=1, out_channels=32, kernel_size=3, padding=1)\n",
        "\n",
        "print(conv1)\n"
      ],
      "metadata": {
        "colab": {
          "base_uri": "https://localhost:8080/"
        },
        "id": "y2YnlGdABqQD",
        "outputId": "b10d8101-44c6-4965-d8c8-1bda3858b180"
      },
      "execution_count": 15,
      "outputs": [
        {
          "output_type": "stream",
          "name": "stdout",
          "text": [
            "Conv2d(1, 32, kernel_size=(3, 3), stride=(1, 1), padding=(1, 1))\n"
          ]
        }
      ]
    },
    {
      "cell_type": "markdown",
      "source": [
        "## 두번째 Conv2D"
      ],
      "metadata": {
        "id": "w5fwcuefCBHy"
      }
    },
    {
      "cell_type": "code",
      "source": [
        "conv2 = nn.Conv2d(in_channels=32, out_channels=64, kernel_size=3, padding=1)\n",
        "\n",
        "print(conv2)"
      ],
      "metadata": {
        "colab": {
          "base_uri": "https://localhost:8080/"
        },
        "id": "zfQsIb7VCDkU",
        "outputId": "e8198076-b09e-4278-b2cf-be223bb797a5"
      },
      "execution_count": 17,
      "outputs": [
        {
          "output_type": "stream",
          "name": "stdout",
          "text": [
            "Conv2d(32, 64, kernel_size=(3, 3), stride=(1, 1), padding=(1, 1))\n"
          ]
        }
      ]
    },
    {
      "cell_type": "markdown",
      "source": [
        "## MaxPooling"
      ],
      "metadata": {
        "id": "O4-AseAWF1xT"
      }
    },
    {
      "cell_type": "code",
      "source": [
        "pool = nn.MaxPool2d(kernel_size=2)\n",
        "\n",
        "print(pool)"
      ],
      "metadata": {
        "colab": {
          "base_uri": "https://localhost:8080/"
        },
        "id": "ITkKDyPSF3yh",
        "outputId": "153b7453-1100-4032-c190-afed63d5c5d8"
      },
      "execution_count": 19,
      "outputs": [
        {
          "output_type": "stream",
          "name": "stdout",
          "text": [
            "MaxPool2d(kernel_size=2, stride=2, padding=0, dilation=1, ceil_mode=False)\n"
          ]
        }
      ]
    },
    {
      "cell_type": "markdown",
      "source": [
        "## 넣어보기"
      ],
      "metadata": {
        "id": "LsD23aUpGyDz"
      }
    },
    {
      "cell_type": "code",
      "source": [
        "out = conv1(inputs)\n",
        "\n",
        "print(out.shape)"
      ],
      "metadata": {
        "colab": {
          "base_uri": "https://localhost:8080/"
        },
        "id": "Cw-K0Nn0Gz76",
        "outputId": "4f4b7fad-ff4b-43e6-f294-076c1497b4b3"
      },
      "execution_count": 27,
      "outputs": [
        {
          "output_type": "stream",
          "name": "stdout",
          "text": [
            "torch.Size([1, 32, 32, 32])\n"
          ]
        }
      ]
    },
    {
      "cell_type": "code",
      "source": [
        "out = pool(out)\n",
        "\n",
        "print(out.shape)"
      ],
      "metadata": {
        "colab": {
          "base_uri": "https://localhost:8080/"
        },
        "id": "CdaBmfFjG4r6",
        "outputId": "6886571e-8e75-411e-c005-4d5f0f51e8e8"
      },
      "execution_count": 28,
      "outputs": [
        {
          "output_type": "stream",
          "name": "stdout",
          "text": [
            "torch.Size([1, 32, 16, 16])\n"
          ]
        }
      ]
    },
    {
      "cell_type": "code",
      "source": [
        "out = conv2(out)\n",
        "\n",
        "print(out.shape)"
      ],
      "metadata": {
        "colab": {
          "base_uri": "https://localhost:8080/"
        },
        "id": "cWwsHepMHe-C",
        "outputId": "00665d30-b0e5-40d2-c0a6-0f882048f100"
      },
      "execution_count": 29,
      "outputs": [
        {
          "output_type": "stream",
          "name": "stdout",
          "text": [
            "torch.Size([1, 64, 16, 16])\n"
          ]
        }
      ]
    },
    {
      "cell_type": "code",
      "source": [
        "out = pool(out)\n",
        "\n",
        "print(out.shape)"
      ],
      "metadata": {
        "colab": {
          "base_uri": "https://localhost:8080/"
        },
        "id": "077mCfxLHj1r",
        "outputId": "c461bb3c-0b12-4b79-a4ee-26ac699c7f55"
      },
      "execution_count": 30,
      "outputs": [
        {
          "output_type": "stream",
          "name": "stdout",
          "text": [
            "torch.Size([1, 64, 8, 8])\n"
          ]
        }
      ]
    },
    {
      "cell_type": "markdown",
      "source": [
        "## Flatten"
      ],
      "metadata": {
        "id": "7qSoyxuWI207"
      }
    },
    {
      "cell_type": "markdown",
      "source": [
        "첫번째 차원인 배치 차원은 그대로 두고 나머지는 펼쳐라"
      ],
      "metadata": {
        "id": "c5GO1gfQI69R"
      }
    },
    {
      "cell_type": "code",
      "source": [
        "out = out.view(out.size(0), -1)\n",
        "\n",
        "print(out.shape)"
      ],
      "metadata": {
        "colab": {
          "base_uri": "https://localhost:8080/"
        },
        "id": "NjWpangzI5Gk",
        "outputId": "48313523-6948-439f-c708-e1fa34bda896"
      },
      "execution_count": 31,
      "outputs": [
        {
          "output_type": "stream",
          "name": "stdout",
          "text": [
            "torch.Size([1, 4096])\n"
          ]
        }
      ]
    },
    {
      "cell_type": "markdown",
      "source": [
        "## Dense (Fully connected)"
      ],
      "metadata": {
        "id": "O2i1YX0fJE7i"
      }
    },
    {
      "cell_type": "code",
      "source": [
        "fc = nn.Linear(4096, 10)\n",
        "\n",
        "out = fc(out)\n",
        "\n",
        "print(out.shape)\n",
        "print(out)"
      ],
      "metadata": {
        "colab": {
          "base_uri": "https://localhost:8080/"
        },
        "id": "IPBPI6MMJHxT",
        "outputId": "1e5d1f0f-a14a-4998-d2a5-d67bd77335bf"
      },
      "execution_count": 32,
      "outputs": [
        {
          "output_type": "stream",
          "name": "stdout",
          "text": [
            "torch.Size([1, 10])\n",
            "tensor([[ 1.5102e+33,  2.7599e+33, -1.6710e+33, -3.7080e+33, -5.9685e+33,\n",
            "         -1.5250e+33,  3.6987e+33, -7.0365e+33, -3.5417e+33,  6.0959e+33]],\n",
            "       grad_fn=<AddmmBackward0>)\n"
          ]
        }
      ]
    }
  ]
}